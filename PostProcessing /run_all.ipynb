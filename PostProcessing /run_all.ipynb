{
 "cells": [
  {
   "cell_type": "code",
   "execution_count": 1,
   "metadata": {},
   "outputs": [],
   "source": [
    "import matplotlib.pyplot as plt\n",
    "import numpy as np\n",
    "import json\n",
    "import os\n",
    "from mpl_toolkits.axes_grid1 import make_axes_locatable"
   ]
  },
  {
   "cell_type": "code",
   "execution_count": 2,
   "metadata": {},
   "outputs": [],
   "source": [
    "funcs = [\n",
    "    lambda x, y: np.exp(y+np.sin(x)),\n",
    "    lambda x, y: (x-0.5)**2+(y-0.5)**2,\n",
    "    lambda x, y: np.sin(2*np.pi*x)*np.sin(2*np.pi*y)\n",
    "]\n",
    "nRange = [8, 16, 32, 64]\n",
    "boundaryTypes = [\n",
    "    [\"Dirichlet\", \"Neumann\"],\n",
    "    [\"Dirichlet\", \"DirichletNeumann\", \"NeumannDirichlet\", \"Neumann\"]\n",
    "]"
   ]
  },
  {
   "cell_type": "markdown",
   "metadata": {},
   "source": [
    "Call Microsolvt"
   ]
  },
  {
   "cell_type": "code",
   "execution_count": null,
   "metadata": {},
   "outputs": [],
   "source": [
    "for funcId in range(3):\n",
    "    for regionId in range(2):\n",
    "        for boundaryType in boundaryTypes[regionId]:\n",
    "            for n in nRange:\n",
    "                prefix = f'Func{funcId}_{\"HasCircle\" if regionId else \"NoCircle\"}_{boundaryType}_Grid{n}'\n",
    "                with open(\"input.json\",\"w\") as f:\n",
    "                    params = {\n",
    "                        \"grid_h\": 1.0 / n,\n",
    "                        \"bdry_type\": boundaryType,  \n",
    "                        \"func_idx\": funcId,\n",
    "                        \"output_path\": f'result/{prefix}.txt'\n",
    "                    }\n",
    "                    if regionId:\n",
    "                        params[\"circ_c\"] = [0.5, 0.5]\n",
    "                        params[\"circ_r\"] = 0.35\n",
    "                    f.write(json.dumps(params, indent=4, separators=(',', ': ')))\n",
    "                os.system('./build/Microsolvt')"
   ]
  },
  {
   "cell_type": "markdown",
   "metadata": {},
   "source": [
    "Draw images and calculate norms"
   ]
  },
  {
   "cell_type": "code",
   "execution_count": 3,
   "metadata": {},
   "outputs": [],
   "source": [
    "def analyze(funcId, stride, inputPath, outputPath):\n",
    "    with open(inputPath) as f:\n",
    "        # our solution\n",
    "        vals = np.array([[float(s) if s != '*' else np.inf for s in lines[:-2].split(' ')] for lines in f.readlines()])\n",
    "        exterior = vals == np.inf\n",
    "        exterior_val = vals.min() * 2 - vals[1 - exterior].max()\n",
    "        vals[exterior] = exterior_val\n",
    "        # ground truth\n",
    "        x = np.arange(0.0, 1+stride, stride)\n",
    "        y = np.arange(0.0, 1+stride, stride)\n",
    "        x, y = np.meshgrid(x, y)\n",
    "        ground_truth = funcs[funcId](x, y)\n",
    "        ground_truth[exterior] = exterior_val\n",
    "        # show\n",
    "        plt.figure(dpi=150)\n",
    "        plt.subplots_adjust(wspace=0.4)\n",
    "        ax = plt.subplot(121)\n",
    "        plt.imshow(vals, origin='lower')\n",
    "        plt.title('Our Solution')\n",
    "        plt.colorbar(cax=make_axes_locatable(ax).append_axes(\"right\", size=\"5%\", pad=0.05))\n",
    "        ax = plt.subplot(122)\n",
    "        plt.imshow(ground_truth, origin='lower')\n",
    "        plt.title('Ground Truth')\n",
    "        plt.colorbar(cax=make_axes_locatable(ax).append_axes(\"right\", size=\"5%\", pad=0.05))\n",
    "        plt.savefig(outputPath)\n",
    "        plt.close()\n",
    "\n",
    "        delta = (vals - ground_truth).flatten()\n",
    "        norm_1_2_inf = [np.linalg.norm(delta, i) / (n+1)**(2/i) for i in (1, 2, np.inf)]\n",
    "        # print('1-norm:', norm_1_2_inf[0])\n",
    "        # print('2-norm:', norm_1_2_inf[1])\n",
    "        # print('infty-norm:', norm_1_2_inf[2])\n",
    "        # print('------------------------------------------')\n",
    "        return norm_1_2_inf"
   ]
  },
  {
   "cell_type": "code",
   "execution_count": 4,
   "metadata": {},
   "outputs": [],
   "source": [
    "normWriter = open('result/norm.txt', 'w')\n",
    "for funcId in range(3):\n",
    "    for regionId in range(2):\n",
    "        for boundaryType in boundaryTypes[regionId]:\n",
    "            norms = []\n",
    "            for n in nRange:\n",
    "                prefix = f'Func{funcId}_{\"HasCircle\" if regionId else \"NoCircle\"}_{boundaryType}_Grid{n}'\n",
    "                norm_1_2_inf = analyze(funcId, 1/n, f'result/{prefix}.txt', f'fig/{prefix}_img.pdf')\n",
    "                normWriter.write(f'{funcId}, {\"HasCircle\" if regionId else \"NoCircle\"}, {boundaryType}, {n}, {tuple(norm_1_2_inf)}\\n')\n",
    "                norms.append([n] + norm_1_2_inf)\n",
    "            norms = np.array(norms)\n",
    "            plt.plot(norms[:, 0], norms[:, 1], label='1-norm')\n",
    "            plt.plot(norms[:, 0], norms[:, 2], label='2-norm')\n",
    "            plt.plot(norms[:, 0], norms[:, 3], label='$\\\\infty$-norm')\n",
    "            plt.xlabel('Grid Size')\n",
    "            plt.xticks(nRange)\n",
    "            plt.legend()\n",
    "            plt.savefig(f'fig/Func{funcId}_{\"HasCircle\" if regionId else \"NoCircle\"}_{boundaryType}_norm.pdf')\n",
    "            plt.yscale('log')\n",
    "            plt.xscale('log')\n",
    "            plt.xticks(nRange)\n",
    "            plt.savefig(f'fig/Func{funcId}_{\"HasCircle\" if regionId else \"NoCircle\"}_{boundaryType}_norm_loglog.pdf')\n",
    "            plt.close()\n",
    "normWriter.close()"
   ]
  }
 ],
 "metadata": {
  "interpreter": {
   "hash": "31f2aee4e71d21fbe5cf8b01ff0e069b9275f58929596ceb00d14d90e3e16cd6"
  },
  "kernelspec": {
   "display_name": "Python 3.8.10 64-bit",
   "language": "python",
   "name": "python3"
  },
  "language_info": {
   "codemirror_mode": {
    "name": "ipython",
    "version": 3
   },
   "file_extension": ".py",
   "mimetype": "text/x-python",
   "name": "python",
   "nbconvert_exporter": "python",
   "pygments_lexer": "ipython3",
   "version": "3.8.10"
  },
  "orig_nbformat": 4
 },
 "nbformat": 4,
 "nbformat_minor": 2
}
