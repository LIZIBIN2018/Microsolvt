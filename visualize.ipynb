{
 "cells": [
  {
   "cell_type": "code",
   "execution_count": 1,
   "metadata": {},
   "outputs": [],
   "source": [
    "import matplotlib.pyplot as plt\n",
    "import numpy as np"
   ]
  },
  {
   "cell_type": "code",
   "execution_count": 2,
   "metadata": {},
   "outputs": [],
   "source": [
    "funcs = [\n",
    "    lambda x, y: np.exp(y + np.sin(x)),\n",
    "    lambda x, y: np.exp(y) * np.cos(x),\n",
    "    lambda x, y: np.sin(x) * np.cos(y)\n",
    "]"
   ]
  },
  {
   "cell_type": "code",
   "execution_count": 3,
   "metadata": {},
   "outputs": [
    {
     "data": {
      "image/png": "[encoded data removed]",
      "text/plain": [
       "<Figure size 900x600 with 2 Axes>"
      ]
     },
     "metadata": {
      "needs_background": "light"
     },
     "output_type": "display_data"
    },
    {
     "name": "stdout",
     "output_type": "stream",
     "text": [
      "1-norm: 329752499999963.9\n",
      "2-norm: 245621106502876.88\n",
      "infty-norm: 329752499999965.7\n"
     ]
    }
   ],
   "source": [
    "with open('grid_val_output.txt') as f:\n",
    "    # our solution\n",
    "    vals = np.array([[float(s) if s != '*' else np.inf for s in lines[:-2].split(' ')] for lines in f.readlines()])\n",
    "    exterior = vals == np.inf\n",
    "    exterior_val = vals.min() * 2 - vals[1 - exterior].max()\n",
    "    vals[exterior] = exterior_val\n",
    "    # ground truth\n",
    "    x = np.arange(0.0, 1.05, 0.05)\n",
    "    y = np.arange(0.0, 1.05, 0.05)\n",
    "    x, y = np.meshgrid(x, y)\n",
    "    ground_truth = funcs[0](x, y)\n",
    "    ground_truth[exterior] = exterior_val\n",
    "    # show\n",
    "    plt.figure(dpi=150)\n",
    "    ax = plt.subplot(121)\n",
    "    plt.imshow(vals)\n",
    "    plt.title('Our Solution')\n",
    "    ax = plt.subplot(122)\n",
    "    plt.imshow(ground_truth)\n",
    "    plt.title('Ground Truth')\n",
    "    plt.show()\n",
    "\n",
    "    delta = vals - ground_truth\n",
    "    print('1-norm:', np.linalg.norm(delta, 1))\n",
    "    print('2-norm:', np.linalg.norm(delta, 2))\n",
    "    print('infty-norm:', np.linalg.norm(delta, np.inf))\n"
   ]
  },
  {
   "cell_type": "code",
   "execution_count": null,
   "metadata": {},
   "outputs": [],
   "source": []
  }
 ],
 "metadata": {
  "interpreter": {
   "hash": "9e6fe232ec1802e04813a62eadbd4a033db6fcefdd78d84705bbb38e45fcef4a"
  },
  "kernelspec": {
   "display_name": "Python 3.9.7 64-bit",
   "language": "python",
   "name": "python3"
  },
  "language_info": {
   "codemirror_mode": {
    "name": "ipython",
    "version": 3
   },
   "file_extension": ".py",
   "mimetype": "text/x-python",
   "name": "python",
   "nbconvert_exporter": "python",
   "pygments_lexer": "ipython3",
   "version": "3.8.10"
  },
  "orig_nbformat": 4
 },
 "nbformat": 4,
 "nbformat_minor": 2
}
